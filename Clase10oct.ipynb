{
  "nbformat": 4,
  "nbformat_minor": 0,
  "metadata": {
    "colab": {
      "provenance": [],
      "authorship_tag": "ABX9TyOaBcS6mmca3L/jUoz/o/zg",
      "include_colab_link": true
    },
    "kernelspec": {
      "name": "python3",
      "display_name": "Python 3"
    },
    "language_info": {
      "name": "python"
    }
  },
  "cells": [
    {
      "cell_type": "markdown",
      "metadata": {
        "id": "view-in-github",
        "colab_type": "text"
      },
      "source": [
        "<a href=\"https://colab.research.google.com/github/ReginaMoreno/TallerHC/blob/main/Clase10oct.ipynb\" target=\"_parent\"><img src=\"https://colab.research.google.com/assets/colab-badge.svg\" alt=\"Open In Colab\"/></a>"
      ]
    },
    {
      "cell_type": "code",
      "execution_count": 9,
      "metadata": {
        "colab": {
          "base_uri": "https://localhost:8080/"
        },
        "id": "u7SYp9nQyX_Z",
        "outputId": "70ceb634-6ee4-400a-89a2-e5c9422932a4"
      },
      "outputs": [
        {
          "output_type": "stream",
          "name": "stdout",
          "text": [
            "{'Brand': 'Ford', 'Model': 'Mustang', 'Year': 2020}\n"
          ]
        }
      ],
      "source": [
        "thisdict = {\n",
        "    \"Brand\":\"Ford\",\n",
        "    \"Model\":\"Mustang\",\n",
        "    \"Year\":1964,\n",
        "    \"Year\":2020\n",
        "}\n",
        "\n",
        "print (thisdict)"
      ]
    },
    {
      "cell_type": "code",
      "source": [
        "diccionario = {\"python\":2.7,\"zope\":2.13,\"plone\":5.7}\n",
        "l=[]\n",
        "for i in diccionario.keys():\n",
        "   print(i)\n",
        "   l.append(diccionario[i])\n",
        "\n",
        "print(l)"
      ],
      "metadata": {
        "colab": {
          "base_uri": "https://localhost:8080/"
        },
        "id": "EzMzZ4Nm1yvx",
        "outputId": "3a407542-a92e-4da4-dc9d-81b7fb6fad57"
      },
      "execution_count": 18,
      "outputs": [
        {
          "output_type": "stream",
          "name": "stdout",
          "text": [
            "python\n",
            "zope\n",
            "plone\n",
            "[2.7, 2.13, 5.7]\n"
          ]
        }
      ]
    },
    {
      "cell_type": "code",
      "source": [
        "import pandas as pd\n",
        "\n",
        "#crear un diccionario con datos\n",
        "datos = {\n",
        "    \"Nombre\": [\"Juan\", \"María\", \"Pedro\", \"Luisa\"],\n",
        "    \"Edad\": [25, 28, 22, 30],\n",
        "    \"Ciudad\": [ \"Madrid\", \"Barcelona\", \"Valencia\", \"Sevilla\"]\n",
        "    }\n",
        "\n",
        "#crear un dataframe a partir del diccionario\n",
        "dataframe = pd.DataFrame(datos)\n",
        "\n",
        "#mostrar el dataframe\n",
        "print(dataframe)"
      ],
      "metadata": {
        "colab": {
          "base_uri": "https://localhost:8080/"
        },
        "id": "loEDZ-vuyY_T",
        "outputId": "96b48ca4-79c6-49f8-ef5c-0e483cdb9c48"
      },
      "execution_count": 4,
      "outputs": [
        {
          "output_type": "stream",
          "name": "stdout",
          "text": [
            "  Nombre  Edad     Ciudad\n",
            "0   Juan    25     Madrid\n",
            "1  María    28  Barcelona\n",
            "2  Pedro    22   Valencia\n",
            "3  Luisa    30    Sevilla\n"
          ]
        }
      ]
    },
    {
      "cell_type": "code",
      "source": [
        "#crear una tupla\n",
        "mi_tupla = (1, 2, 3, \"Hola\", True)\n",
        "print(mi_tupla)"
      ],
      "metadata": {
        "colab": {
          "base_uri": "https://localhost:8080/"
        },
        "id": "4p_vR9Zmzmca",
        "outputId": "62d47b72-8474-4974-9065-9b42d40de65e"
      },
      "execution_count": 2,
      "outputs": [
        {
          "output_type": "stream",
          "name": "stdout",
          "text": [
            "(1, 2, 3, 'Hola', True)\n"
          ]
        }
      ]
    },
    {
      "cell_type": "code",
      "source": [
        "frutas = (\"fresa\", \"mango\", \"sandía\")\n",
        "for fruta in frutas:\n",
        "  print(fruta)"
      ],
      "metadata": {
        "colab": {
          "base_uri": "https://localhost:8080/"
        },
        "id": "isrCYqi30e_C",
        "outputId": "9778c1b9-c49c-4072-ae55-c74a75d6dbbd"
      },
      "execution_count": 6,
      "outputs": [
        {
          "output_type": "stream",
          "name": "stdout",
          "text": [
            "fresa\n",
            "mango\n",
            "sandía\n"
          ]
        }
      ]
    },
    {
      "cell_type": "code",
      "source": [
        "def mi_funcion():\n",
        "   print(\"hola, te saludo desde la función\")"
      ],
      "metadata": {
        "id": "OKT-JjDD2dkg"
      },
      "execution_count": 15,
      "outputs": []
    },
    {
      "cell_type": "code",
      "source": [
        "mi_funcion()"
      ],
      "metadata": {
        "colab": {
          "base_uri": "https://localhost:8080/"
        },
        "id": "IoJ8hXlu22_f",
        "outputId": "463919ae-2636-4727-faab-5ddfdfac6256"
      },
      "execution_count": 17,
      "outputs": [
        {
          "output_type": "stream",
          "name": "stdout",
          "text": [
            "hola, te saludo desde la función\n"
          ]
        }
      ]
    },
    {
      "cell_type": "code",
      "source": [
        "def mi_funcion_nueva(fname):\n",
        "  print(\"Hola \"+fname+\" te saludo desde la función\")\n",
        "\n",
        "mi_funcion_nueva(\"Regina\")"
      ],
      "metadata": {
        "colab": {
          "base_uri": "https://localhost:8080/"
        },
        "id": "spzivdb73M_g",
        "outputId": "4c53606c-8af3-4a42-b0a6-949ebda13858"
      },
      "execution_count": 20,
      "outputs": [
        {
          "output_type": "stream",
          "name": "stdout",
          "text": [
            "Hola Regina te saludo desde la función\n"
          ]
        }
      ]
    },
    {
      "cell_type": "code",
      "source": [
        "def Nombre(fname,lname):\n",
        "  print(\"Hola \"+fname+\" \"+lname+\" te saludo desde la función\")\n",
        "\n",
        "Nombre(\"Regina\",\"MH\")"
      ],
      "metadata": {
        "colab": {
          "base_uri": "https://localhost:8080/"
        },
        "id": "607wzF6V3zjg",
        "outputId": "b58b999b-a67f-4481-9bf2-2784457feb75"
      },
      "execution_count": 25,
      "outputs": [
        {
          "output_type": "stream",
          "name": "stdout",
          "text": [
            "Hola Regina MH te saludo desde la función\n"
          ]
        }
      ]
    },
    {
      "cell_type": "code",
      "source": [
        "def mi_funcion(*kids):\n",
        "  print(\"El niño menor es \" + kids[2])\n",
        "\n",
        "mi_funcion(\"Emil\", \"Tobias\", \"Linus\")"
      ],
      "metadata": {
        "colab": {
          "base_uri": "https://localhost:8080/"
        },
        "id": "gQaUdWTB4iyv",
        "outputId": "47e0ce12-821c-480c-e0bf-2d1fbae55859"
      },
      "execution_count": 34,
      "outputs": [
        {
          "output_type": "stream",
          "name": "stdout",
          "text": [
            "El niño menor es Linus\n"
          ]
        }
      ]
    },
    {
      "cell_type": "code",
      "source": [
        "def mi_funcion(pais=\"México\"):\n",
        "  print(\"Yo soy de \"+ pais)\n",
        "\n",
        "mi_funcion()\n"
      ],
      "metadata": {
        "colab": {
          "base_uri": "https://localhost:8080/"
        },
        "id": "YdB-0t-25T1n",
        "outputId": "ef08be6a-d36a-4f4d-fdc0-177572d03975"
      },
      "execution_count": 37,
      "outputs": [
        {
          "output_type": "stream",
          "name": "stdout",
          "text": [
            "Yo soy de México\n"
          ]
        }
      ]
    },
    {
      "cell_type": "code",
      "source": [
        "mi_funcion(\"Alemania\")"
      ],
      "metadata": {
        "colab": {
          "base_uri": "https://localhost:8080/"
        },
        "id": "8Ugs8YhH6vL1",
        "outputId": "26e8bc9f-9208-451b-ca8f-a3141854c508"
      },
      "execution_count": 38,
      "outputs": [
        {
          "output_type": "stream",
          "name": "stdout",
          "text": [
            "Yo soy de Alemania\n"
          ]
        }
      ]
    },
    {
      "cell_type": "code",
      "source": [
        "A=[2,3,4,5,6]\n",
        "B=[7,8,9,2,4]\n",
        "\n",
        "\n",
        "def sum_vec(A,B):\n",
        "\n",
        "  if len(A)==len(B):\n",
        "    n=len(A)\n",
        "    C=n*[0.0]\n",
        "    for i in range(n):\n",
        "      C[i]=A[i]+B[i]\n",
        "    print(C)\n",
        "  else:\n",
        "    print(\"no se puede sumar\")\n",
        "\n",
        "sum_vec(A,B)\n",
        ""
      ],
      "metadata": {
        "colab": {
          "base_uri": "https://localhost:8080/"
        },
        "id": "wbLbYKkV63rF",
        "outputId": "ec325b0d-10b1-4593-a02c-e6e0cf7a49aa"
      },
      "execution_count": 57,
      "outputs": [
        {
          "output_type": "stream",
          "name": "stdout",
          "text": [
            "[9, 11, 13, 7, 10]\n"
          ]
        }
      ]
    },
    {
      "cell_type": "code",
      "source": [
        "A=[8,9]\n",
        "B=[7,6]\n",
        "\n",
        "def pro_punt(A,B):\n",
        " if len(A)==len(B):\n",
        "  n=len(A)\n",
        "  C=n*[0.0]\n",
        "  for i in range (n):\n",
        "    C[i]=A[i]*B[i]\n",
        "  print(C)\n",
        " else:\n",
        "  print(\"no se puede sumar\")\n",
        "\n",
        "pro_punt(A,B)"
      ],
      "metadata": {
        "colab": {
          "base_uri": "https://localhost:8080/"
        },
        "id": "UIqJNe4XCi2R",
        "outputId": "1482d851-b6fc-4e70-d06b-358ef129ead0"
      },
      "execution_count": 64,
      "outputs": [
        {
          "output_type": "stream",
          "name": "stdout",
          "text": [
            "[56, 54]\n"
          ]
        }
      ]
    }
  ]
}