{
  "nbformat": 4,
  "nbformat_minor": 0,
  "metadata": {
    "colab": {
      "provenance": [],
      "authorship_tag": "ABX9TyMXfC4IFKG41LlVo0CPHwme",
      "include_colab_link": true
    },
    "kernelspec": {
      "name": "python3",
      "display_name": "Python 3"
    },
    "language_info": {
      "name": "python"
    }
  },
  "cells": [
    {
      "cell_type": "markdown",
      "metadata": {
        "id": "view-in-github",
        "colab_type": "text"
      },
      "source": [
        "<a href=\"https://colab.research.google.com/github/ReginaMoreno/TallerHC/blob/main/Clase19Oct.ipynb\" target=\"_parent\"><img src=\"https://colab.research.google.com/assets/colab-badge.svg\" alt=\"Open In Colab\"/></a>"
      ]
    },
    {
      "cell_type": "code",
      "execution_count": 16,
      "metadata": {
        "id": "Sh7F6Z8vLfie"
      },
      "outputs": [],
      "source": [
        "import numpy as np"
      ]
    },
    {
      "cell_type": "code",
      "source": [
        "#funciones igal con [] y con () pero se recomiendan más los ()\n",
        "arr1 = np.array((1,2,3,4,5))\n",
        "\n",
        "print(arr1)\n",
        "\n",
        "print(type(arr1))"
      ],
      "metadata": {
        "colab": {
          "base_uri": "https://localhost:8080/"
        },
        "id": "FDgOfxZoRLxb",
        "outputId": "cdbc3e8f-457c-4151-ba31-594461da5efe"
      },
      "execution_count": 17,
      "outputs": [
        {
          "output_type": "stream",
          "name": "stdout",
          "text": [
            "[1 2 3 4 5]\n",
            "<class 'numpy.ndarray'>\n"
          ]
        }
      ]
    },
    {
      "cell_type": "code",
      "source": [
        "#2D (cuadrado)\n",
        "#np ayuda a ver de mejor forma las matrices\n",
        "arr = np.array([[1,2,3],[4,5,6]])\n",
        "\n",
        "print(arr)"
      ],
      "metadata": {
        "colab": {
          "base_uri": "https://localhost:8080/"
        },
        "id": "bZ1CglSlMM3V",
        "outputId": "95960812-71d7-4f52-e2e1-391165325ad6"
      },
      "execution_count": 18,
      "outputs": [
        {
          "output_type": "stream",
          "name": "stdout",
          "text": [
            "[[1 2 3]\n",
            " [4 5 6]]\n"
          ]
        }
      ]
    },
    {
      "cell_type": "code",
      "source": [
        "#3D (cubo)\n",
        "arr = np.array([[[1,2,3],[4,5,6],[7,8,9]]])\n",
        "\n",
        "print(arr)"
      ],
      "metadata": {
        "colab": {
          "base_uri": "https://localhost:8080/"
        },
        "id": "a0giNKJ8MNJN",
        "outputId": "3a34265b-ab45-47c7-f0c3-c75464b4094a"
      },
      "execution_count": 19,
      "outputs": [
        {
          "output_type": "stream",
          "name": "stdout",
          "text": [
            "[[[1 2 3]\n",
            "  [4 5 6]\n",
            "  [7 8 9]]]\n"
          ]
        }
      ]
    },
    {
      "cell_type": "code",
      "source": [
        "a = np.array(42)\n",
        "b = np.array([1,2,3,4,5])\n",
        "#numero de elementos\n",
        "c = np.array([[1,2,3],[4,5,6]])\n",
        "#numero de listas y numero de elementos general en cada lista\n",
        "d = np.array([[[1,2,3],[4,5,6],[1,2,3],[4,5,6]]])"
      ],
      "metadata": {
        "id": "yucjf8TcNFBf"
      },
      "execution_count": 20,
      "outputs": []
    },
    {
      "cell_type": "code",
      "source": [
        "arr = np.array([[1,2,3,4,5],[6,7,8,9,10]])\n",
        "print(\"2do elemento de la 1er fila\", arr[1,0])"
      ],
      "metadata": {
        "colab": {
          "base_uri": "https://localhost:8080/"
        },
        "id": "2jozVH7kNDes",
        "outputId": "a41aa78a-4952-478f-b513-dd45265d37cc"
      },
      "execution_count": 21,
      "outputs": [
        {
          "output_type": "stream",
          "name": "stdout",
          "text": [
            "2do elemento de la 1er fila 6\n"
          ]
        }
      ]
    },
    {
      "cell_type": "code",
      "source": [
        "arr = np.array([[[1,2,3],[4,5,6],[7,8,9],[10,11,12]]])\n",
        "\n",
        "print(arr[0,1,2])"
      ],
      "metadata": {
        "colab": {
          "base_uri": "https://localhost:8080/"
        },
        "id": "DMG0l3W6OGMf",
        "outputId": "7499d849-9f5f-4f3c-bf62-3a8ac0bb5250"
      },
      "execution_count": 22,
      "outputs": [
        {
          "output_type": "stream",
          "name": "stdout",
          "text": [
            "6\n"
          ]
        }
      ]
    },
    {
      "cell_type": "code",
      "source": [
        "[[1,2,3],[4,5,6],[7,8,9]]\n",
        "\n"
      ],
      "metadata": {
        "colab": {
          "base_uri": "https://localhost:8080/"
        },
        "id": "IKE3qhRYObSr",
        "outputId": "8fe990e9-4f2f-476d-fa60-64d3fcc97974"
      },
      "execution_count": 10,
      "outputs": [
        {
          "output_type": "execute_result",
          "data": {
            "text/plain": [
              "[[1, 2, 3], [4, 5, 6], [7, 8, 9]]"
            ]
          },
          "metadata": {},
          "execution_count": 10
        }
      ]
    },
    {
      "cell_type": "code",
      "source": [
        "arr = np.array([[1,2,3],[4,5,6]])\n",
        "print(arr)"
      ],
      "metadata": {
        "colab": {
          "base_uri": "https://localhost:8080/"
        },
        "id": "lLWSP1M5Obq7",
        "outputId": "712a5505-ec7c-4fc4-ee97-f044af39e49e"
      },
      "execution_count": 23,
      "outputs": [
        {
          "output_type": "stream",
          "name": "stdout",
          "text": [
            "[[1 2 3]\n",
            " [4 5 6]]\n"
          ]
        }
      ]
    },
    {
      "cell_type": "code",
      "source": [
        "#usando numpy\n",
        "matriz = np.array([[1,1,1],[1,1,1],[1,1,1]])\n",
        "suma = np.sum(matriz)\n",
        "print(suma)"
      ],
      "metadata": {
        "colab": {
          "base_uri": "https://localhost:8080/"
        },
        "id": "G3JQ4b_7OxVN",
        "outputId": "ba0a6f56-7c3b-4dc0-ac3f-2fe93e1b7d77"
      },
      "execution_count": 24,
      "outputs": [
        {
          "output_type": "stream",
          "name": "stdout",
          "text": [
            "9\n"
          ]
        }
      ]
    },
    {
      "cell_type": "code",
      "source": [
        "#usando listas:\n",
        "matriz = [[1,1,1],[1,1,1],[1,1,1]]\n",
        "suma=0\n",
        "for fila in matriz:\n",
        "  suma +=sum(fila)\n",
        "print(suma)"
      ],
      "metadata": {
        "colab": {
          "base_uri": "https://localhost:8080/"
        },
        "id": "JvKwi-_tP_ak",
        "outputId": "d2a9d3e8-4635-4443-a4f3-a3e3a569e811"
      },
      "execution_count": 14,
      "outputs": [
        {
          "output_type": "stream",
          "name": "stdout",
          "text": [
            "9\n"
          ]
        }
      ]
    },
    {
      "cell_type": "code",
      "source": [
        "#producto punto\n",
        "lista1 = [1,2,3]\n",
        "lista2 = [4,5,6]\n",
        "productoesc = sum(x*y for x, y in zip(lista1,lista2))\n",
        "print(productoesc)"
      ],
      "metadata": {
        "colab": {
          "base_uri": "https://localhost:8080/"
        },
        "id": "SSBl20PVQ15J",
        "outputId": "7db033c1-a0ea-45aa-caea-206b065962bc"
      },
      "execution_count": 27,
      "outputs": [
        {
          "output_type": "stream",
          "name": "stdout",
          "text": [
            "32\n"
          ]
        }
      ]
    },
    {
      "cell_type": "code",
      "source": [
        "A=[[1,1,1],[1,1,1],[1,1,1]]\n",
        "\n",
        "suma=0\n",
        "for i in range(len(A)):\n",
        "  for j in range(len(A)):\n",
        "    suma=suma+A[i][j]\n",
        "print(f\"la suma es {suma}\")"
      ],
      "metadata": {
        "colab": {
          "base_uri": "https://localhost:8080/"
        },
        "id": "BAfhyNC-R9ZM",
        "outputId": "3301bafa-d2eb-4588-c9e5-d54c5c887fba"
      },
      "execution_count": 30,
      "outputs": [
        {
          "output_type": "stream",
          "name": "stdout",
          "text": [
            "la suma es 9\n"
          ]
        }
      ]
    },
    {
      "cell_type": "code",
      "source": [
        "import numpy as np\n",
        "arr=np.array([[1,1,1],[1,1,1],[1,1,1]])\n",
        "\n",
        "sumaArr=0.0\n",
        "for i in range(len(A)):\n",
        "  for j in range(len(A)):\n",
        "    sumaArr=sumaArr+arr[i,j]\n",
        "print(f\"la suma es {sumaArr}\")"
      ],
      "metadata": {
        "colab": {
          "base_uri": "https://localhost:8080/"
        },
        "id": "rk5QvvjqU5mM",
        "outputId": "57c86944-c81b-4f0c-921d-aec46637812e"
      },
      "execution_count": 32,
      "outputs": [
        {
          "output_type": "stream",
          "name": "stdout",
          "text": [
            "la suma es 9.0\n"
          ]
        }
      ]
    },
    {
      "cell_type": "code",
      "source": [
        "def ProdPunto(a,b):\n",
        "  #listas\n",
        "  PP=0.0\n",
        "  for i in range(len(a)):\n",
        "    PP=PP+a[i]*b[i]\n",
        "  return PP"
      ],
      "metadata": {
        "id": "vevOG3fvU6Cj"
      },
      "execution_count": 40,
      "outputs": []
    },
    {
      "cell_type": "code",
      "source": [
        "arr2=np.array([[1,1,1],[1,1,1],[1,1,1]])\n",
        "arr3=np.array([[1,1,1],[1,1,1],[1,1,1]])\n",
        "Pp_por_reng=np.array([0,0,0])\n",
        "Pp_por_col=np.array([0,0,0])\n",
        "\n",
        "for i in range(len(arr2)):\n",
        "  Pp_por_reng[i]=ProdPunto(arr2[i],arr3[i])\n",
        "\n",
        "Pp_por_reng"
      ],
      "metadata": {
        "colab": {
          "base_uri": "https://localhost:8080/"
        },
        "id": "WfCPljwPW1vD",
        "outputId": "75f03bd0-9a8c-4ecf-c328-5b1568081280"
      },
      "execution_count": 41,
      "outputs": [
        {
          "output_type": "execute_result",
          "data": {
            "text/plain": [
              "array([3, 3, 3])"
            ]
          },
          "metadata": {},
          "execution_count": 41
        }
      ]
    },
    {
      "cell_type": "code",
      "source": [
        "def AgarraCol(a,col):\n",
        "  nuevo=[]\n",
        "  for i in range(len(a)):\n",
        "    nuevo.append(a[i,col])\n",
        "\n",
        "  return np.array(nuevo)"
      ],
      "metadata": {
        "id": "mdzmeNtIW9b7"
      },
      "execution_count": 42,
      "outputs": []
    },
    {
      "cell_type": "code",
      "source": [
        "col1=AgarraCol(arr2,0)\n",
        "col1"
      ],
      "metadata": {
        "colab": {
          "base_uri": "https://localhost:8080/"
        },
        "id": "mKH9aUKSZObb",
        "outputId": "c013f949-c385-4ced-e76f-f7351275d0db"
      },
      "execution_count": 43,
      "outputs": [
        {
          "output_type": "execute_result",
          "data": {
            "text/plain": [
              "array([1, 1, 1])"
            ]
          },
          "metadata": {},
          "execution_count": 43
        }
      ]
    },
    {
      "cell_type": "code",
      "source": [
        "for i in range(len(arr2)):\n",
        " Pp_por_col[i]=ProdPunto(AgarraCol(arr2,i),AgarraCol(arr3,i))\n",
        "\n",
        "Pp_por_col"
      ],
      "metadata": {
        "colab": {
          "base_uri": "https://localhost:8080/"
        },
        "id": "hmjA_rE8ZgW0",
        "outputId": "325f9b99-0da7-4718-8049-13321ec9b381"
      },
      "execution_count": 48,
      "outputs": [
        {
          "output_type": "execute_result",
          "data": {
            "text/plain": [
              "array([3, 3, 3])"
            ]
          },
          "metadata": {},
          "execution_count": 48
        }
      ]
    }
  ]
}