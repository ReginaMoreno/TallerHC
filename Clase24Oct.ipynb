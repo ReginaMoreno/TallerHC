{
  "nbformat": 4,
  "nbformat_minor": 0,
  "metadata": {
    "colab": {
      "provenance": [],
      "authorship_tag": "ABX9TyPVczO57cuCXpnKTkuaJGHQ",
      "include_colab_link": true
    },
    "kernelspec": {
      "name": "python3",
      "display_name": "Python 3"
    },
    "language_info": {
      "name": "python"
    }
  },
  "cells": [
    {
      "cell_type": "markdown",
      "metadata": {
        "id": "view-in-github",
        "colab_type": "text"
      },
      "source": [
        "<a href=\"https://colab.research.google.com/github/ReginaMoreno/TallerHC/blob/main/Clase24Oct.ipynb\" target=\"_parent\"><img src=\"https://colab.research.google.com/assets/colab-badge.svg\" alt=\"Open In Colab\"/></a>"
      ]
    },
    {
      "cell_type": "code",
      "execution_count": 2,
      "metadata": {
        "id": "l8Uc1T_55RqO"
      },
      "outputs": [],
      "source": [
        "import numpy as np"
      ]
    },
    {
      "cell_type": "code",
      "source": [
        "arr = np.array([1,2,3,4,5,6,7])\n",
        "\n",
        "print(arr[1:6])\n",
        "print(arr[4:]) #Imprime de ese número en adelante\n",
        "print(arr[-3:-1])\n",
        "print(arr[-1]) #números a la izquierda\n",
        "print(arr[1:5:2])\n",
        "print(arr[::2])#para ir de dos en dos\n",
        "print(arr[0:])#toda la lista\n",
        "print(arr[:0])#lo anterior a x número"
      ],
      "metadata": {
        "colab": {
          "base_uri": "https://localhost:8080/"
        },
        "id": "VQfpqU5s5p-x",
        "outputId": "5b5a08cd-813d-4ed1-bde5-dc76689b2be1"
      },
      "execution_count": 10,
      "outputs": [
        {
          "output_type": "stream",
          "name": "stdout",
          "text": [
            "[2 3 4 5 6]\n",
            "[5 6 7]\n",
            "[5 6]\n",
            "7\n",
            "[2 4]\n",
            "[1 3 5 7]\n",
            "[1 2 3 4 5 6 7]\n",
            "[]\n"
          ]
        }
      ]
    },
    {
      "cell_type": "code",
      "source": [
        "arr = np.array([[1,2,3,4,5],[6,7,8,9,10]])\n",
        "\n",
        "print(arr[1,1:4])"
      ],
      "metadata": {
        "colab": {
          "base_uri": "https://localhost:8080/"
        },
        "id": "ZdmpKS9C5S1V",
        "outputId": "a4d4e307-20fb-4bd6-ccf1-f5d6c4d46ef8"
      },
      "execution_count": 7,
      "outputs": [
        {
          "output_type": "stream",
          "name": "stdout",
          "text": [
            "[7 8 9]\n"
          ]
        }
      ]
    },
    {
      "cell_type": "code",
      "source": [
        "arr = np.array([[1,2,3,4,5],[6,7,8,9,10]])\n",
        "\n",
        "print(arr[0:2,2])"
      ],
      "metadata": {
        "colab": {
          "base_uri": "https://localhost:8080/"
        },
        "id": "aN5MkUdr5TO8",
        "outputId": "f07716a7-cea7-4300-8d4d-b122ea68b657"
      },
      "execution_count": 8,
      "outputs": [
        {
          "output_type": "stream",
          "name": "stdout",
          "text": [
            "[3 8]\n"
          ]
        }
      ]
    },
    {
      "cell_type": "code",
      "source": [
        "arr = np.array([[1,2,3,4,5],[6,7,8,9,10]])\n",
        "\n",
        "print(arr[0:1,2])"
      ],
      "metadata": {
        "colab": {
          "base_uri": "https://localhost:8080/"
        },
        "id": "7wq1zEYa6ipx",
        "outputId": "dc0f39c3-0272-4eee-f1cb-e92513715e07"
      },
      "execution_count": 13,
      "outputs": [
        {
          "output_type": "stream",
          "name": "stdout",
          "text": [
            "[3]\n"
          ]
        }
      ]
    },
    {
      "cell_type": "code",
      "source": [
        "arr = np.array([[1,2,3,4,5],[6,7,8,9,10]])\n",
        "\n",
        "print(arr[0:2,3])"
      ],
      "metadata": {
        "colab": {
          "base_uri": "https://localhost:8080/"
        },
        "id": "NkXPT01I7XwE",
        "outputId": "5ca744eb-b69e-42fa-db11-db3b8541260d"
      },
      "execution_count": 14,
      "outputs": [
        {
          "output_type": "stream",
          "name": "stdout",
          "text": [
            "[4 9]\n"
          ]
        }
      ]
    },
    {
      "cell_type": "code",
      "source": [
        "arr = np.array([[1,2,3,4,5],[6,7,8,9,10]])\n",
        "\n",
        "print(arr[0,4])"
      ],
      "metadata": {
        "colab": {
          "base_uri": "https://localhost:8080/"
        },
        "id": "BxlBi4sm8FUa",
        "outputId": "419ec461-fbb9-4289-a04f-381b3c3328d9"
      },
      "execution_count": 15,
      "outputs": [
        {
          "output_type": "stream",
          "name": "stdout",
          "text": [
            "5\n"
          ]
        }
      ]
    },
    {
      "cell_type": "code",
      "source": [
        "arr = np.array([[1,2,3,4,5],[6,7,8,9,10]])\n",
        "\n",
        "print(arr[0:2,1:4])"
      ],
      "metadata": {
        "colab": {
          "base_uri": "https://localhost:8080/"
        },
        "id": "uboP2ufT8Otj",
        "outputId": "3e1d90c9-a194-4732-9a99-e08faf752d12"
      },
      "execution_count": 16,
      "outputs": [
        {
          "output_type": "stream",
          "name": "stdout",
          "text": [
            "[[2 3 4]\n",
            " [7 8 9]]\n"
          ]
        }
      ]
    },
    {
      "cell_type": "code",
      "source": [
        "arr = np.array([[1,2,3,4,5],[6,7,8,9,10]])\n",
        "\n",
        "print(arr[0:1,2:5])"
      ],
      "metadata": {
        "colab": {
          "base_uri": "https://localhost:8080/"
        },
        "id": "CtQrJvOF8dBg",
        "outputId": "d383f741-3950-403d-87b2-bfb66947f1af"
      },
      "execution_count": 19,
      "outputs": [
        {
          "output_type": "stream",
          "name": "stdout",
          "text": [
            "[[3 4 5]]\n"
          ]
        }
      ]
    },
    {
      "cell_type": "code",
      "source": [
        "arr = np.array([1,2,3,4,5,4,4])\n",
        "\n",
        "x = np.where(arr == 4)\n",
        "\n",
        "print(x)"
      ],
      "metadata": {
        "colab": {
          "base_uri": "https://localhost:8080/"
        },
        "id": "XIGgmRXl91wo",
        "outputId": "94703059-53e9-4926-872b-3affb3746c89"
      },
      "execution_count": 21,
      "outputs": [
        {
          "output_type": "stream",
          "name": "stdout",
          "text": [
            "(array([3, 5, 6]),)\n"
          ]
        }
      ]
    },
    {
      "cell_type": "code",
      "source": [
        "arr = np.array([1,2,3,4,5,6,7,8])\n",
        "\n",
        "x = np.where(arr%2 == 0) #encontrar x\n",
        "\n",
        "print(x)"
      ],
      "metadata": {
        "colab": {
          "base_uri": "https://localhost:8080/"
        },
        "id": "wOYlPC1I-HWP",
        "outputId": "991c59bf-f436-4f8e-a7c5-52bb2b4eedc0"
      },
      "execution_count": 22,
      "outputs": [
        {
          "output_type": "stream",
          "name": "stdout",
          "text": [
            "(array([1, 3, 5, 7]),)\n"
          ]
        }
      ]
    },
    {
      "cell_type": "code",
      "source": [
        "x = np.array ([1,2,3])\n",
        "y = np.array ([4,5,6])\n",
        "\n",
        "suma=x+y\n",
        "print(f\"la suma es {suma}\")"
      ],
      "metadata": {
        "colab": {
          "base_uri": "https://localhost:8080/"
        },
        "id": "n7MdHIe7-VJ4",
        "outputId": "b05eaa39-dc6e-4126-8f2f-a513b6e5b88d"
      },
      "execution_count": 28,
      "outputs": [
        {
          "output_type": "stream",
          "name": "stdout",
          "text": [
            "la suma es [5 7 9]\n"
          ]
        }
      ]
    },
    {
      "cell_type": "code",
      "source": [
        "x = np.array ([1,2,3])\n",
        "y = np.array ([4,5,6])\n",
        "\n",
        "resta=x-y\n",
        "print(f\"la resta es {resta}\")"
      ],
      "metadata": {
        "colab": {
          "base_uri": "https://localhost:8080/"
        },
        "id": "mvZjomQTA0yl",
        "outputId": "44db601a-9f39-4193-cf15-95bfff38c284"
      },
      "execution_count": 29,
      "outputs": [
        {
          "output_type": "stream",
          "name": "stdout",
          "text": [
            "la resta es [-3 -3 -3]\n"
          ]
        }
      ]
    },
    {
      "cell_type": "code",
      "source": [
        "x = np.array ([1,2,3])\n",
        "y = np.array ([4,5,6])\n",
        "\n",
        "mult=x*y\n",
        "print(f\"la multiplicación es {mult}\") #f es la contradicción de  forma, da un formato"
      ],
      "metadata": {
        "colab": {
          "base_uri": "https://localhost:8080/"
        },
        "id": "-4PHk76lA9XE",
        "outputId": "e266ebdd-fd9a-45cd-f2a0-c60c25364191"
      },
      "execution_count": 30,
      "outputs": [
        {
          "output_type": "stream",
          "name": "stdout",
          "text": [
            "la mult es [ 4 10 18]\n"
          ]
        }
      ]
    },
    {
      "cell_type": "code",
      "source": [
        "x = np.array ([1,2,3])\n",
        "y = np.array ([4,5,6])\n",
        "\n",
        "div=x/y\n",
        "print(f\"la división es {div}\")"
      ],
      "metadata": {
        "colab": {
          "base_uri": "https://localhost:8080/"
        },
        "id": "dcO3j7ycBvuU",
        "outputId": "10822e40-3239-4ce9-a7b4-1a6d50c7b174"
      },
      "execution_count": 31,
      "outputs": [
        {
          "output_type": "stream",
          "name": "stdout",
          "text": [
            "la división es [0.25 0.4  0.5 ]\n"
          ]
        }
      ]
    },
    {
      "cell_type": "code",
      "source": [
        "print(f\"número pi = {np.pi}\")"
      ],
      "metadata": {
        "colab": {
          "base_uri": "https://localhost:8080/"
        },
        "id": "DMc9ucqRCS-c",
        "outputId": "435ef2ea-ad9f-44b2-a02c-60e82322f116"
      },
      "execution_count": 32,
      "outputs": [
        {
          "output_type": "stream",
          "name": "stdout",
          "text": [
            "número pi = 3.141592653589793\n"
          ]
        }
      ]
    },
    {
      "cell_type": "code",
      "source": [
        "angulos=np.array([0,np.pi/2,np.pi])\n",
        "seno=np.sin(angulos) #sin, cos, tan\n",
        "print(f\"los senos {seno}\")\n",
        "print(f\"de los angulos {angulos}\")"
      ],
      "metadata": {
        "colab": {
          "base_uri": "https://localhost:8080/"
        },
        "id": "0YwvGoj6Ch7L",
        "outputId": "1911bb0f-b54b-4d29-833c-879abad66e1c"
      },
      "execution_count": 33,
      "outputs": [
        {
          "output_type": "stream",
          "name": "stdout",
          "text": [
            "los senos [0.0000000e+00 1.0000000e+00 1.2246468e-16]\n",
            "de los angulos [0.         1.57079633 3.14159265]\n"
          ]
        }
      ]
    },
    {
      "cell_type": "code",
      "source": [
        "angulos=np.array([0,np.pi/2,np.pi])\n",
        "coseno=np.cos(angulos)\n",
        "print(f\"los cosenos {coseno}\")\n",
        "print(f\"de los angulos {angulos}\")"
      ],
      "metadata": {
        "colab": {
          "base_uri": "https://localhost:8080/"
        },
        "id": "quCaQjGjDAdF",
        "outputId": "0be3028c-5f34-47e5-bc3a-230727c2b738"
      },
      "execution_count": 35,
      "outputs": [
        {
          "output_type": "stream",
          "name": "stdout",
          "text": [
            "los cosenos [ 1.000000e+00  6.123234e-17 -1.000000e+00]\n",
            "de los angulos [0.         1.57079633 3.14159265]\n"
          ]
        }
      ]
    },
    {
      "cell_type": "code",
      "source": [
        "x=np.array(list(range(1,9)))\n",
        "print(x)"
      ],
      "metadata": {
        "colab": {
          "base_uri": "https://localhost:8080/"
        },
        "id": "6VVBYS_gDZiF",
        "outputId": "fe6e84d2-7ae5-44fc-e305-7fceea448552"
      },
      "execution_count": 57,
      "outputs": [
        {
          "output_type": "stream",
          "name": "stdout",
          "text": [
            "[1 2 3 4 5 6 7 8]\n"
          ]
        }
      ]
    },
    {
      "cell_type": "code",
      "source": [
        "matriz=x.reshape(2,4)\n",
        "matriz"
      ],
      "metadata": {
        "colab": {
          "base_uri": "https://localhost:8080/"
        },
        "id": "-gy3KQ50FJwL",
        "outputId": "95eb2811-2c01-4008-a7d9-9eca3d4dd22b"
      },
      "execution_count": 58,
      "outputs": [
        {
          "output_type": "execute_result",
          "data": {
            "text/plain": [
              "array([[1, 2, 3, 4],\n",
              "       [5, 6, 7, 8]])"
            ]
          },
          "metadata": {},
          "execution_count": 58
        }
      ]
    },
    {
      "cell_type": "code",
      "source": [
        "matriz=x.reshape(4,2)\n",
        "matriz\n"
      ],
      "metadata": {
        "colab": {
          "base_uri": "https://localhost:8080/"
        },
        "id": "xj5lxcQvEqDM",
        "outputId": "0c572be9-d29b-45fe-aa20-d30eed406010"
      },
      "execution_count": 59,
      "outputs": [
        {
          "output_type": "execute_result",
          "data": {
            "text/plain": [
              "array([[1, 2],\n",
              "       [3, 4],\n",
              "       [5, 6],\n",
              "       [7, 8]])"
            ]
          },
          "metadata": {},
          "execution_count": 59
        }
      ]
    },
    {
      "cell_type": "code",
      "source": [
        "x.reshape(-1,1)"
      ],
      "metadata": {
        "colab": {
          "base_uri": "https://localhost:8080/"
        },
        "id": "nzZ4vg48E_LL",
        "outputId": "f062de4b-68b0-4860-f155-d432c1451abb"
      },
      "execution_count": 56,
      "outputs": [
        {
          "output_type": "execute_result",
          "data": {
            "text/plain": [
              "array([[0.        ],\n",
              "       [0.33333333],\n",
              "       [0.66666667],\n",
              "       [1.        ]])"
            ]
          },
          "metadata": {},
          "execution_count": 56
        }
      ]
    },
    {
      "cell_type": "code",
      "source": [
        "x=np.linspace(0,1,4)\n",
        "x"
      ],
      "metadata": {
        "colab": {
          "base_uri": "https://localhost:8080/"
        },
        "id": "m7rvfJFQF8JL",
        "outputId": "a2d15545-71f2-4582-e758-ba0c796a6b76"
      },
      "execution_count": 46,
      "outputs": [
        {
          "output_type": "execute_result",
          "data": {
            "text/plain": [
              "array([0.        , 0.33333333, 0.66666667, 1.        ])"
            ]
          },
          "metadata": {},
          "execution_count": 46
        }
      ]
    },
    {
      "cell_type": "code",
      "source": [
        "np.random.uniform(0,1,6)\n"
      ],
      "metadata": {
        "colab": {
          "base_uri": "https://localhost:8080/"
        },
        "id": "FD8xdh-pGEyb",
        "outputId": "16b097ab-5dc6-4c4c-90d8-702174779916"
      },
      "execution_count": 51,
      "outputs": [
        {
          "output_type": "execute_result",
          "data": {
            "text/plain": [
              "array([0.03014145, 0.38322894, 0.99837193, 0.0276229 , 0.2775365 ,\n",
              "       0.57355865])"
            ]
          },
          "metadata": {},
          "execution_count": 51
        }
      ]
    },
    {
      "cell_type": "code",
      "source": [
        "np.random.randint(0,10,size=1)"
      ],
      "metadata": {
        "colab": {
          "base_uri": "https://localhost:8080/"
        },
        "id": "mVtIpA3pGwPs",
        "outputId": "77ecb944-3d1d-4931-876b-8c18587d36e8"
      },
      "execution_count": 55,
      "outputs": [
        {
          "output_type": "execute_result",
          "data": {
            "text/plain": [
              "array([4])"
            ]
          },
          "metadata": {},
          "execution_count": 55
        }
      ]
    },
    {
      "cell_type": "code",
      "source": [
        "i = 1\n",
        "while i < 11:\n",
        "  i=i+1\n",
        "int(input(\"Escribe un número del 1 al 10 \"))\n",
        "r=np.random.randint(1,11)\n",
        "int(input(\"tu número es:\",r))"
      ],
      "metadata": {
        "colab": {
          "base_uri": "https://localhost:8080/",
          "height": 227
        },
        "id": "J6_JrSBVHciB",
        "outputId": "9f76b18e-a484-46a0-d4fd-a01c5f35b15b"
      },
      "execution_count": 76,
      "outputs": [
        {
          "name": "stdout",
          "output_type": "stream",
          "text": [
            "Escribe un número del 1 al 10 8\n"
          ]
        },
        {
          "output_type": "error",
          "ename": "TypeError",
          "evalue": "ignored",
          "traceback": [
            "\u001b[0;31m---------------------------------------------------------------------------\u001b[0m",
            "\u001b[0;31mTypeError\u001b[0m                                 Traceback (most recent call last)",
            "\u001b[0;32m<ipython-input-76-50cf482a14d5>\u001b[0m in \u001b[0;36m<cell line: 6>\u001b[0;34m()\u001b[0m\n\u001b[1;32m      4\u001b[0m \u001b[0mint\u001b[0m\u001b[0;34m(\u001b[0m\u001b[0minput\u001b[0m\u001b[0;34m(\u001b[0m\u001b[0;34m\"Escribe un número del 1 al 10 \"\u001b[0m\u001b[0;34m)\u001b[0m\u001b[0;34m)\u001b[0m\u001b[0;34m\u001b[0m\u001b[0;34m\u001b[0m\u001b[0m\n\u001b[1;32m      5\u001b[0m \u001b[0mr\u001b[0m\u001b[0;34m=\u001b[0m\u001b[0mnp\u001b[0m\u001b[0;34m.\u001b[0m\u001b[0mrandom\u001b[0m\u001b[0;34m.\u001b[0m\u001b[0mrandint\u001b[0m\u001b[0;34m(\u001b[0m\u001b[0;36m1\u001b[0m\u001b[0;34m,\u001b[0m\u001b[0;36m11\u001b[0m\u001b[0;34m)\u001b[0m\u001b[0;34m\u001b[0m\u001b[0;34m\u001b[0m\u001b[0m\n\u001b[0;32m----> 6\u001b[0;31m \u001b[0mint\u001b[0m\u001b[0;34m(\u001b[0m\u001b[0minput\u001b[0m\u001b[0;34m(\u001b[0m\u001b[0;34m\"tu número es:\"\u001b[0m\u001b[0;34m,\u001b[0m\u001b[0mr\u001b[0m\u001b[0;34m)\u001b[0m\u001b[0;34m)\u001b[0m\u001b[0;34m\u001b[0m\u001b[0;34m\u001b[0m\u001b[0m\n\u001b[0m",
            "\u001b[0;31mTypeError\u001b[0m: Kernel.raw_input() takes from 1 to 2 positional arguments but 3 were given"
          ]
        }
      ]
    }
  ]
}