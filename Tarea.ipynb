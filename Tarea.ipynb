{
  "nbformat": 4,
  "nbformat_minor": 0,
  "metadata": {
    "colab": {
      "provenance": [],
      "authorship_tag": "ABX9TyMKIPC32ULLyxnCoCkZO5Xj",
      "include_colab_link": true
    },
    "kernelspec": {
      "name": "python3",
      "display_name": "Python 3"
    },
    "language_info": {
      "name": "python"
    }
  },
  "cells": [
    {
      "cell_type": "markdown",
      "metadata": {
        "id": "view-in-github",
        "colab_type": "text"
      },
      "source": [
        "<a href=\"https://colab.research.google.com/github/ReginaMoreno/TallerHC/blob/main/Tarea.ipynb\" target=\"_parent\"><img src=\"https://colab.research.google.com/assets/colab-badge.svg\" alt=\"Open In Colab\"/></a>"
      ]
    },
    {
      "cell_type": "code",
      "execution_count": null,
      "metadata": {
        "id": "9NxvOHFg3xba"
      },
      "outputs": [],
      "source": [
        "#Luis Alberto Flores Hernández.\n",
        "#María Regina Moreno Haro."
      ]
    },
    {
      "cell_type": "code",
      "source": [
        "import numpy as np"
      ],
      "metadata": {
        "id": "-J0YKSiSEonI"
      },
      "execution_count": 28,
      "outputs": []
    },
    {
      "cell_type": "code",
      "source": [
        "#Suma de matrices rectangulares.\n",
        "A=[[1,2,3],[7,8,9],[20,21,22]]\n",
        "B=[[10,11,12],[13,14,15],[4,5,6]]\n",
        "for i in range(len(A)):\n",
        "  for j in range(len(B)):\n",
        "    print(A[i][j]+B[i][j])"
      ],
      "metadata": {
        "colab": {
          "base_uri": "https://localhost:8080/"
        },
        "id": "PrEAmXLZ4IWH",
        "outputId": "bed0b48a-0fd0-4376-960f-d1efb599d7b7"
      },
      "execution_count": 21,
      "outputs": [
        {
          "output_type": "stream",
          "name": "stdout",
          "text": [
            "11\n",
            "13\n",
            "15\n",
            "20\n",
            "22\n",
            "24\n",
            "24\n",
            "26\n",
            "28\n"
          ]
        }
      ]
    },
    {
      "cell_type": "code",
      "source": [
        "x = np.array ([7,8,9])\n",
        "y = np.array ([10,11,12])\n",
        "\n",
        "suma=x+y\n",
        "print(f\"la suma es {suma}\")"
      ],
      "metadata": {
        "colab": {
          "base_uri": "https://localhost:8080/"
        },
        "id": "OJ-fgm_tAgHI",
        "outputId": "62a8f22a-8458-4488-b1ab-4b17b747cad9"
      },
      "execution_count": 9,
      "outputs": [
        {
          "output_type": "stream",
          "name": "stdout",
          "text": [
            "la suma es [17 19 21]\n"
          ]
        }
      ]
    },
    {
      "cell_type": "code",
      "source": [
        "#Multiplicación entrada por entrada de matrices rectangulares.\n",
        "A=[[1,2,3],[7,8,9],[20,21,22]] #Tomamos A como primer matriz\n",
        "B=[[10,11,12],[13,14,15],[4,5,6]] #Tomamos B como segunda matriz\n",
        "for i in range(len(A)): #Tomamos i en el rango del tamaño de A\n",
        "  for j in range(len(A)): #Tomamos j en el rango del tamaño de A\n",
        "    print(A[i][j]*B[i][j]) #Hacemos la multiplicación de cada valor de A por cada valor de B."
      ],
      "metadata": {
        "colab": {
          "base_uri": "https://localhost:8080/"
        },
        "id": "dXvTZAEQ4IvH",
        "outputId": "bb9ba6e0-0610-4d32-80f8-a092cf32fc52"
      },
      "execution_count": 26,
      "outputs": [
        {
          "output_type": "stream",
          "name": "stdout",
          "text": [
            "10\n",
            "22\n",
            "36\n",
            "91\n",
            "112\n",
            "135\n",
            "80\n",
            "105\n",
            "132\n"
          ]
        }
      ]
    },
    {
      "cell_type": "code",
      "source": [
        "x = np.array ([8,5,6])\n",
        "y = np.array ([1,7,3])\n",
        "\n",
        "mult=x*y\n",
        "print(f\"la multiplicación es{mult}\")"
      ],
      "metadata": {
        "colab": {
          "base_uri": "https://localhost:8080/"
        },
        "id": "N03VZbkZCf0R",
        "outputId": "5495a8fb-2964-4d07-f876-1f463c31f8a9"
      },
      "execution_count": 25,
      "outputs": [
        {
          "output_type": "stream",
          "name": "stdout",
          "text": [
            "la multiplicación es[ 8 35 18]\n"
          ]
        }
      ]
    },
    {
      "cell_type": "code",
      "source": [
        "#Traza.\n",
        "#La traza de una matriz es la suma de sus valores en su diagonal\n",
        "matriz=np.array([[1,2,3],[7,8,9],[20,21,22]])\n",
        "traza=np.trace(matriz)\n",
        "print(traza)"
      ],
      "metadata": {
        "colab": {
          "base_uri": "https://localhost:8080/"
        },
        "id": "8ueQIlSb4JEZ",
        "outputId": "cca1e7b4-ee45-481f-95f8-f19ea97d788b"
      },
      "execution_count": 32,
      "outputs": [
        {
          "output_type": "stream",
          "name": "stdout",
          "text": [
            "31\n"
          ]
        }
      ]
    },
    {
      "cell_type": "code",
      "source": [
        "from traitlets.config.application import Application\n",
        "#Transpuesta.\n",
        "#Cambiar los elementos de las filas a las columnas, y los elementos de las columnas a las filas.\n",
        "matriz = [[1,2,3],[4,5,6],[8,9,11]]\n",
        "for i in range(len(matriz)):\n",
        "  for j in range(len(matriz)):\n",
        "    a=matriz[j][i]\n",
        "    b=matriz[i][j]\n",
        "    aux=a\n",
        "    a=b\n",
        "    b=aux\n",
        "    print(aux)"
      ],
      "metadata": {
        "colab": {
          "base_uri": "https://localhost:8080/"
        },
        "id": "IwPFfb5-4JbT",
        "outputId": "ab8540cf-36f0-4d90-e96b-4be64d38bd68"
      },
      "execution_count": 38,
      "outputs": [
        {
          "output_type": "stream",
          "name": "stdout",
          "text": [
            "1\n",
            "4\n",
            "8\n",
            "2\n",
            "5\n",
            "9\n",
            "3\n",
            "6\n",
            "11\n"
          ]
        }
      ]
    },
    {
      "cell_type": "code",
      "source": [
        "#Máximo y mínimo elemento de una matriz\n",
        "import numpy as np\n",
        "\n",
        "def encontrar_maximo(matriz):\n",
        "    return np.max(matriz)\n",
        "\n",
        "def encontrar_minimo(matriz):\n",
        "    return np.min(matriz)\n",
        "\n",
        "# Ejemplo de uso:\n",
        "matriz = np.array([\n",
        "    [3, 6, 9],\n",
        "    [2, 8, 1],\n",
        "    [7, 5, 4]\n",
        "])\n",
        "\n",
        "maximo = encontrar_maximo(matriz)\n",
        "minimo = encontrar_minimo(matriz)\n",
        "\n",
        "print(f\"El máximo elemento en la matriz es: {maximo}\")\n",
        "print(f\"El mínimo elemento en la matriz es: {minimo}\")"
      ],
      "metadata": {
        "id": "iRhWu1GW4JzF"
      },
      "execution_count": null,
      "outputs": []
    },
    {
      "cell_type": "code",
      "source": [
        "#Suma del cuadrado de los elementos de una matriz.\n",
        "import numpy as np\n",
        "\n",
        "def suma_cuadrados_elementos(matriz):\n",
        "    return np.sum(matriz**2)\n",
        "\n",
        "# Ejemplo de uso:\n",
        "matriz = np.array([\n",
        "    [3, 6, 9],\n",
        "    [2, 8, 1],\n",
        "    [7, 5, 4]\n",
        "])\n",
        "\n",
        "resultado = suma_cuadrados_elementos(matriz)\n",
        "print(f\"La suma de los cuadrados de los elementos de la matriz es: {resultado}\")"
      ],
      "metadata": {
        "colab": {
          "base_uri": "https://localhost:8080/"
        },
        "id": "uDTW_5h44peX",
        "outputId": "24f1b2b2-81bd-4c41-dc51-65f512c04331"
      },
      "execution_count": 23,
      "outputs": [
        {
          "output_type": "stream",
          "name": "stdout",
          "text": [
            "La suma de los cuadrados de los elementos de la matriz es: 285\n"
          ]
        }
      ]
    },
    {
      "cell_type": "code",
      "source": [
        "#Potencia de matrices.\n",
        "import numpy as np\n",
        "\n",
        "def potencia_matriz(matriz, exponente):\n",
        "    if len(matriz) != len(matriz[0]):\n",
        "        return None  # La matriz debe ser cuadrada para elevarla a una potencia\n",
        "\n",
        "    resultado = matriz\n",
        "    for _ in range(1, exponente):\n",
        "        resultado = multiplicar_matrices(resultado, matriz)  # Llamamos a una función para multiplicar matrices\n",
        "\n",
        "    return resultado\n",
        "\n",
        "# Función para multiplicar dos matrices\n",
        "def multiplicar_matrices(matriz1, matriz2):\n",
        "    filas1 = len(matriz1)\n",
        "    columnas1 = len(matriz1[0])\n",
        "    filas2 = len(matriz2)\n",
        "    columnas2 = len(matriz2[0])\n",
        "\n",
        "    if columnas1 != filas2:\n",
        "        return None  # No se pueden multiplicar las matrices\n",
        "\n",
        "    resultado = [[0 for _ in range(columnas2)] for _ in range(filas1)]\n",
        "\n",
        "    for i in range(filas1):\n",
        "        for j in range(columnas2):\n",
        "            for k in range(columnas1):\n",
        "                resultado[i][j] += matriz1[i][k] * matriz2[k][j]\n",
        "\n",
        "    return resultado\n",
        "\n",
        "# Ejemplo de uso:\n",
        "matriz = [\n",
        "    [2, 1],\n",
        "    [1, 2]\n",
        "]\n",
        "\n",
        "exponente = 3\n",
        "\n",
        "resultado = potencia_matriz(matriz, exponente)\n",
        "if resultado is not None:\n",
        "    for fila in resultado:\n",
        "        print(fila)\n",
        "else:\n",
        "    print(\"La matriz no se puede elevar a la potencia especificada.\")\n"
      ],
      "metadata": {
        "colab": {
          "base_uri": "https://localhost:8080/"
        },
        "id": "ItPSaVLt4uyH",
        "outputId": "6b57d36b-326c-46bd-adca-7fe70c9c4249"
      },
      "execution_count": 22,
      "outputs": [
        {
          "output_type": "stream",
          "name": "stdout",
          "text": [
            "[14, 13]\n",
            "[13, 14]\n"
          ]
        }
      ]
    }
  ]
}