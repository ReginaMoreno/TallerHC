{
  "nbformat": 4,
  "nbformat_minor": 0,
  "metadata": {
    "colab": {
      "provenance": [],
      "authorship_tag": "ABX9TyMiVR/xERq/NXV5ZL43PJPK",
      "include_colab_link": true
    },
    "kernelspec": {
      "name": "python3",
      "display_name": "Python 3"
    },
    "language_info": {
      "name": "python"
    }
  },
  "cells": [
    {
      "cell_type": "markdown",
      "metadata": {
        "id": "view-in-github",
        "colab_type": "text"
      },
      "source": [
        "<a href=\"https://colab.research.google.com/github/ReginaMoreno/TallerHC/blob/main/Tarea5.ipynb\" target=\"_parent\"><img src=\"https://colab.research.google.com/assets/colab-badge.svg\" alt=\"Open In Colab\"/></a>"
      ]
    },
    {
      "cell_type": "code",
      "execution_count": 25,
      "metadata": {
        "colab": {
          "base_uri": "https://localhost:8080/"
        },
        "id": "IOphME3VYOvX",
        "outputId": "22396984-a91a-4b9b-bf57-9b66069bc18b"
      },
      "outputs": [
        {
          "output_type": "stream",
          "name": "stdout",
          "text": [
            "Ingresa un número: 8\n",
            "Ingresa un número: 9\n",
            "Ingresa un número: 9\n",
            "Ingresa un número: 7\n",
            "Ingresa un número: 8\n",
            "Los números ingresados son: [1, 2, 3, 4, 5, 6.0]\n",
            "El promedio de los 10 valores es: 3.5\n"
          ]
        }
      ],
      "source": [
        "# Lista con 5 números\n",
        "lista_numeros = [1, 2, 3, 4, 5]\n",
        "\n",
        "# Pedir al usuario que ingrese 5 números y agregarlos a la lista\n",
        "for i in range(5):\n",
        " float(input(\"Ingresa un número: \"))\n",
        "lista_numeros.append(numero)\n",
        "\n",
        "# Calcular el promedio de los 10 valores en la lista\n",
        "promedio = sum(lista_numeros) / len(lista_numeros)\n",
        "\n",
        "# Mostrar el resultado\n",
        "print(\"Los números ingresados son:\", lista_numeros)\n",
        "print(\"El promedio de los 10 valores es:\", promedio)\n",
        "\n",
        "#no se en que me equivoque para que no agregue los 5 números que pone el usuario y solo ponga el 6, que no se de donde saco.\n"
      ]
    },
    {
      "cell_type": "code",
      "source": [
        "#Escribe un programa que encuentre el valor máximo y mínimo en una lista de números.\n",
        "#lista\n",
        "lista = [1,4,5,7,9]\n",
        "print(min(lista))\n",
        "print(max(lista))\n"
      ],
      "metadata": {
        "colab": {
          "base_uri": "https://localhost:8080/"
        },
        "id": "gas6WTXDfX7q",
        "outputId": "d1e9d250-e435-47bf-8d63-bbb6cb19a8c7"
      },
      "execution_count": 27,
      "outputs": [
        {
          "output_type": "stream",
          "name": "stdout",
          "text": [
            "1\n",
            "9\n"
          ]
        }
      ]
    },
    {
      "cell_type": "code",
      "source": [
        "#Dada una lista de números, crea dos listas separadas: una para números pares y otra para números impares.\n",
        "listaa = [54,17,34,87,23,91]\n",
        "par_num = []\n",
        "impar_num = []\n",
        "for num in listaa:\n",
        "  if (num % 2) == 0:\n",
        "    par_num.append(num)\n",
        "  else:\n",
        "    impar_num.append(num)\n",
        "print(\"números pares\", par_num)\n",
        "print(\"números impares\", impar_num)"
      ],
      "metadata": {
        "colab": {
          "base_uri": "https://localhost:8080/"
        },
        "id": "KAkwEZJ-gSzh",
        "outputId": "ec4f18b7-3881-415a-ea97-3a72593406d1"
      },
      "execution_count": 54,
      "outputs": [
        {
          "output_type": "stream",
          "name": "stdout",
          "text": [
            "números pares [54, 34]\n",
            "números impares [17, 87, 23, 91]\n"
          ]
        }
      ]
    }
  ]
}