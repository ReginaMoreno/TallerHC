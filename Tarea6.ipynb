{
  "nbformat": 4,
  "nbformat_minor": 0,
  "metadata": {
    "colab": {
      "provenance": [],
      "authorship_tag": "ABX9TyPUkkwZj3GV/nRJ0MAttp5n",
      "include_colab_link": true
    },
    "kernelspec": {
      "name": "python3",
      "display_name": "Python 3"
    },
    "language_info": {
      "name": "python"
    }
  },
  "cells": [
    {
      "cell_type": "markdown",
      "metadata": {
        "id": "view-in-github",
        "colab_type": "text"
      },
      "source": [
        "<a href=\"https://colab.research.google.com/github/ReginaMoreno/TallerHC/blob/main/Tarea6.ipynb\" target=\"_parent\"><img src=\"https://colab.research.google.com/assets/colab-badge.svg\" alt=\"Open In Colab\"/></a>"
      ]
    },
    {
      "cell_type": "code",
      "execution_count": 22,
      "metadata": {
        "colab": {
          "base_uri": "https://localhost:8080/"
        },
        "id": "u5iQTqKOrfyA",
        "outputId": "5b49cc75-7843-48fd-8aa7-49a2ac27f996"
      },
      "outputs": [
        {
          "output_type": "stream",
          "name": "stdout",
          "text": [
            "32\n"
          ]
        }
      ],
      "source": [
        "#producto de dos vectores.\n",
        "A=[1,2,3]\n",
        "B=[4,5,6]\n",
        "\n",
        "def propun(A,B):\n",
        "    if len(A)==len(B):\n",
        "       suma=0\n",
        "       for i in range (len(A)):\n",
        "           suma=suma+A[i]*B[i]\n",
        "       return suma\n",
        "    else:\n",
        "      return print(\"Vectores de diferente tamaño.\")\n",
        "\n",
        "print(propun(A,B))\n"
      ]
    },
    {
      "cell_type": "code",
      "source": [
        "#potencia de vector n=3.\n",
        "ni idea como se hace la potencia de vectores):\n"
      ],
      "metadata": {
        "id": "870OKWter5Xb"
      },
      "execution_count": null,
      "outputs": []
    },
    {
      "cell_type": "code",
      "source": [
        "#producto escalar.\n",
        "def mulesc(alfa,A):\n",
        "    r=[]\n",
        "    for i in range(len(A)):\n",
        "        r.append(alfa*A[i])\n",
        "    return r\n",
        "print(mulesc(3,A))"
      ],
      "metadata": {
        "colab": {
          "base_uri": "https://localhost:8080/"
        },
        "id": "V5VoJqPnr5wY",
        "outputId": "1d793e9a-fa56-427b-8ce1-5081651d085f"
      },
      "execution_count": 24,
      "outputs": [
        {
          "output_type": "stream",
          "name": "stdout",
          "text": [
            "[3, 6, 9]\n"
          ]
        }
      ]
    }
  ]
}