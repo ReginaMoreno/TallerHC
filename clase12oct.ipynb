{
  "nbformat": 4,
  "nbformat_minor": 0,
  "metadata": {
    "colab": {
      "provenance": [],
      "authorship_tag": "ABX9TyMuW+y647ntz7m2bp/hg8mH",
      "include_colab_link": true
    },
    "kernelspec": {
      "name": "python3",
      "display_name": "Python 3"
    },
    "language_info": {
      "name": "python"
    }
  },
  "cells": [
    {
      "cell_type": "markdown",
      "metadata": {
        "id": "view-in-github",
        "colab_type": "text"
      },
      "source": [
        "<a href=\"https://colab.research.google.com/github/ReginaMoreno/TallerHC/blob/main/clase12oct.ipynb\" target=\"_parent\"><img src=\"https://colab.research.google.com/assets/colab-badge.svg\" alt=\"Open In Colab\"/></a>"
      ]
    },
    {
      "cell_type": "code",
      "execution_count": 2,
      "metadata": {
        "colab": {
          "base_uri": "https://localhost:8080/"
        },
        "id": "pRq6GDKLD1Bi",
        "outputId": "a016493e-de11-488b-b7b7-a022224fc79d"
      },
      "outputs": [
        {
          "output_type": "stream",
          "name": "stdout",
          "text": [
            "20\n"
          ]
        }
      ],
      "source": [
        "x = lambda a : a + 10\n",
        "print(x(10))"
      ]
    },
    {
      "cell_type": "code",
      "source": [
        "x = lambda a, b, c : a + b + c\n",
        "print(x(5,2,8))"
      ],
      "metadata": {
        "colab": {
          "base_uri": "https://localhost:8080/"
        },
        "id": "dspZhllBGthF",
        "outputId": "966586d5-814c-4fa2-c4f9-00918ed28d4b"
      },
      "execution_count": 3,
      "outputs": [
        {
          "output_type": "stream",
          "name": "stdout",
          "text": [
            "15\n"
          ]
        }
      ]
    },
    {
      "cell_type": "code",
      "source": [
        "def mifunc(n):\n",
        "  return lambda a : a*n\n",
        "\n",
        "midoble = mifunc(2)\n",
        "print(midoble(21))"
      ],
      "metadata": {
        "colab": {
          "base_uri": "https://localhost:8080/"
        },
        "id": "UZqUBO3eG4gs",
        "outputId": "c0c932d0-f48d-4283-a04a-fdc85d1d5362"
      },
      "execution_count": 11,
      "outputs": [
        {
          "output_type": "stream",
          "name": "stdout",
          "text": [
            "42\n"
          ]
        }
      ]
    },
    {
      "cell_type": "code",
      "source": [
        "def mifunc(n):\n",
        "  return lambda a : a*n\n",
        "\n",
        "Midoble = mifunc(2)\n",
        "Mitriple = mifunc(3)\n",
        "\n",
        "print(Midoble(8))\n",
        "print(Mitriple(8))"
      ],
      "metadata": {
        "colab": {
          "base_uri": "https://localhost:8080/"
        },
        "id": "XW9c3Ng2HUd9",
        "outputId": "40d5a4df-7de9-4389-da7d-656013eb65c8"
      },
      "execution_count": 14,
      "outputs": [
        {
          "output_type": "stream",
          "name": "stdout",
          "text": [
            "16\n",
            "24\n"
          ]
        }
      ]
    },
    {
      "cell_type": "code",
      "source": [
        "#filtrar números pares\n",
        "\n",
        "def filter(lista):\n",
        "num = list(range(1,101))\n",
        "for i in num:\n",
        "  i%2==0:\n",
        "print(lista)\n",
        ""
      ],
      "metadata": {
        "colab": {
          "base_uri": "https://localhost:8080/",
          "height": 140
        },
        "id": "7AJTCcE1JUrD",
        "outputId": "9570c244-ab55-425e-c72d-55cd1eb5ce88"
      },
      "execution_count": 40,
      "outputs": [
        {
          "output_type": "error",
          "ename": "IndentationError",
          "evalue": "ignored",
          "traceback": [
            "\u001b[0;36m  File \u001b[0;32m\"<ipython-input-40-ee99dcce3d94>\"\u001b[0;36m, line \u001b[0;32m4\u001b[0m\n\u001b[0;31m    num = list(range(1,101))\u001b[0m\n\u001b[0m    ^\u001b[0m\n\u001b[0;31mIndentationError\u001b[0m\u001b[0;31m:\u001b[0m expected an indented block after function definition on line 3\n"
          ]
        }
      ]
    },
    {
      "cell_type": "code",
      "source": [
        "#contraseña con caracteres entre cada letra\n",
        "def encriptado(regina):\n",
        ""
      ],
      "metadata": {
        "id": "6UH_MQ0tKXUK"
      },
      "execution_count": null,
      "outputs": []
    }
  ]
}